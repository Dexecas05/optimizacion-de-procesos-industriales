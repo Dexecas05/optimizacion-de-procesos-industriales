{
 "cells": [
  {
   "cell_type": "markdown",
   "metadata": {},
   "source": [
    "# Limpieza de Dataset de Línea de Producción - Versión 2\n",
    "\n",
    "## Objetivo\n",
    "Realizar el preprocesamiento y limpieza de un dataset anonimizado de eventos de producción, preparándolo para análisis de eficiencia y minería de texto de comentarios.\n",
    "\n",
    "## Contexto del Dataset\n",
    "- **Origen**: Datos de producción anonimizados de una planta industrial\n",
    "- **Período**: Enero a Diciembre 2024\n",
    "- **Contenido**:\n",
    "  - Registros de eventos con marcas temporales\n",
    "  - Clasificación de incidentes (3 niveles)\n",
    "  - Comentarios operacionales\n",
    "  - Turnos codificados"
   ]
  },
  {
   "cell_type": "code",
   "execution_count": 2,
   "metadata": {},
   "outputs": [],
   "source": [
    "# 1. Configuración Inicial\n",
    "import pandas as pd\n",
    "import numpy as np\n",
    "from datetime import datetime"
   ]
  },
  {
   "cell_type": "code",
   "execution_count": 3,
   "metadata": {},
   "outputs": [],
   "source": [
    "# Configuración de visualización\n",
    "pd.set_option('display.max_columns', None)\n",
    "pd.set_option('display.width', 1000)"
   ]
  },
  {
   "cell_type": "code",
   "execution_count": null,
   "metadata": {},
   "outputs": [
    {
     "name": "stderr",
     "output_type": "stream",
     "text": [
      "<>:3: SyntaxWarning: invalid escape sequence '\\X'\n",
      "<>:3: SyntaxWarning: invalid escape sequence '\\X'\n",
      "C:\\Users\\execa\\AppData\\Local\\Temp\\ipykernel_6456\\832874414.py:3: SyntaxWarning: invalid escape sequence '\\X'\n",
      "  DATASET_PATH = \"D:\\Xequi 2024\\Proyectos_Pesonales\\Analisis-Fer-Anonimo\\data\\Anonymized-data\\efectividad-de-produccion-linea1-2024-encubierta-v2.xlsx\"\n"
     ]
    },
    {
     "name": "stdout",
     "output_type": "stream",
     "text": [
      "[INFO] Cargando dataset anonimizado...\n"
     ]
    }
   ],
   "source": [
    "# 2. Carga de Datos\n",
    "print(\"[INFO] Cargando dataset anonimizado...\")\n",
    "DATASET_PATH = r\"..\\data\\anonymized-data\\efectividad-de-produccion-linea1-2024-encubierta-v2.xlsx\"\n",
    "df = pd.read_excel(DATASET_PATH, engine=\"openpyxl\")"
   ]
  },
  {
   "cell_type": "markdown",
   "metadata": {},
   "source": [
    "## Análisis Exploratorio Inicial (EDA)"
   ]
  },
  {
   "cell_type": "code",
   "execution_count": 5,
   "metadata": {},
   "outputs": [],
   "source": [
    "def resumen_inicial(df):\n",
    "    \"\"\"Genera un resumen estructurado del dataset\"\"\"\n",
    "    print(\"\\n[INFO] Resumen inicial del dataset:\")\n",
    "    print(f\"\\n1. Dimensión del dataset: {df.shape[0]} registros x {df.shape[1]} columnas\")\n",
    "    \n",
    "    print(\"\\n2. Tipos de datos y valores nulos:\")\n",
    "    print(pd.DataFrame({\n",
    "        'Tipo': df.dtypes,\n",
    "        'Valores Nulos': df.isna().sum(),\n",
    "        '% Nulos': (df.isna().mean()*100).round(2)\n",
    "    }))\n",
    "    \n",
    "    print(\"\\n3. Muestra inicial:\")\n",
    "    display(df.head(3))\n",
    "    print(\"\\n4. Muestra final:\")\n",
    "    display(df.tail(3))\n",
    "    \n",
    "    print(\"\\n5. Rango temporal:\")\n",
    "    print(f\"   Inicio: {df['Inicio'].min()}\")\n",
    "    print(f\"   Fin: {df['Fin'].max()}\")"
   ]
  },
  {
   "cell_type": "code",
   "execution_count": 6,
   "metadata": {},
   "outputs": [
    {
     "name": "stdout",
     "output_type": "stream",
     "text": [
      "\n",
      "[INFO] Resumen inicial del dataset:\n",
      "\n",
      "1. Dimensión del dataset: 222403 registros x 10 columnas\n",
      "\n",
      "2. Tipos de datos y valores nulos:\n",
      "                       Tipo  Valores Nulos  % Nulos\n",
      "Inicio       datetime64[ns]              0     0.00\n",
      "Fin          datetime64[ns]              0     0.00\n",
      "Duracion            float64              0     0.00\n",
      "Location             object              0     0.00\n",
      "Nivel 1              object              0     0.00\n",
      "Nivel 2              object         202929    91.24\n",
      "Nivel 3              object         205852    92.56\n",
      "Comentarios          object         210379    94.59\n",
      "Team leader          object            819     0.37\n",
      "Turno                 int64              0     0.00\n",
      "\n",
      "3. Muestra inicial:\n"
     ]
    },
    {
     "data": {
      "application/vnd.microsoft.datawrangler.viewer.v0+json": {
       "columns": [
        {
         "name": "index",
         "rawType": "int64",
         "type": "integer"
        },
        {
         "name": "Inicio",
         "rawType": "datetime64[ns]",
         "type": "datetime"
        },
        {
         "name": "Fin",
         "rawType": "datetime64[ns]",
         "type": "datetime"
        },
        {
         "name": "Duracion",
         "rawType": "float64",
         "type": "float"
        },
        {
         "name": "Location",
         "rawType": "object",
         "type": "string"
        },
        {
         "name": "Nivel 1",
         "rawType": "object",
         "type": "string"
        },
        {
         "name": "Nivel 2",
         "rawType": "object",
         "type": "unknown"
        },
        {
         "name": "Nivel 3",
         "rawType": "object",
         "type": "unknown"
        },
        {
         "name": "Comentarios",
         "rawType": "object",
         "type": "unknown"
        },
        {
         "name": "Team leader",
         "rawType": "object",
         "type": "string"
        },
        {
         "name": "Turno",
         "rawType": "int64",
         "type": "integer"
        }
       ],
       "conversionMethod": "pd.DataFrame",
       "ref": "085d5102-96df-4e3c-ac7c-da6a4095df0f",
       "rows": [
        [
         "0",
         "2024-01-04 06:30:00",
         "2024-01-04 06:30:05.275000",
         "5.275",
         "Máquina",
         "Perdida de velocidad",
         null,
         null,
         null,
         "Operario 04",
         "1"
        ],
        [
         "1",
         "2024-01-04 06:30:15.036000",
         "2024-01-04 06:30:31.862000",
         "16.826",
         "Máquina",
         "Paradas cortas",
         null,
         null,
         null,
         "Operario 04",
         "1"
        ],
        [
         "2",
         "2024-01-04 06:30:46.502000",
         "2024-01-04 06:30:58.058000",
         "11.556",
         "Máquina",
         "Paradas cortas",
         null,
         null,
         null,
         "Operario 04",
         "1"
        ]
       ],
       "shape": {
        "columns": 10,
        "rows": 3
       }
      },
      "text/html": [
       "<div>\n",
       "<style scoped>\n",
       "    .dataframe tbody tr th:only-of-type {\n",
       "        vertical-align: middle;\n",
       "    }\n",
       "\n",
       "    .dataframe tbody tr th {\n",
       "        vertical-align: top;\n",
       "    }\n",
       "\n",
       "    .dataframe thead th {\n",
       "        text-align: right;\n",
       "    }\n",
       "</style>\n",
       "<table border=\"1\" class=\"dataframe\">\n",
       "  <thead>\n",
       "    <tr style=\"text-align: right;\">\n",
       "      <th></th>\n",
       "      <th>Inicio</th>\n",
       "      <th>Fin</th>\n",
       "      <th>Duracion</th>\n",
       "      <th>Location</th>\n",
       "      <th>Nivel 1</th>\n",
       "      <th>Nivel 2</th>\n",
       "      <th>Nivel 3</th>\n",
       "      <th>Comentarios</th>\n",
       "      <th>Team leader</th>\n",
       "      <th>Turno</th>\n",
       "    </tr>\n",
       "  </thead>\n",
       "  <tbody>\n",
       "    <tr>\n",
       "      <th>0</th>\n",
       "      <td>2024-01-04 06:30:00.000</td>\n",
       "      <td>2024-01-04 06:30:05.275</td>\n",
       "      <td>5.275</td>\n",
       "      <td>Máquina</td>\n",
       "      <td>Perdida de velocidad</td>\n",
       "      <td>NaN</td>\n",
       "      <td>NaN</td>\n",
       "      <td>NaN</td>\n",
       "      <td>Operario 04</td>\n",
       "      <td>1</td>\n",
       "    </tr>\n",
       "    <tr>\n",
       "      <th>1</th>\n",
       "      <td>2024-01-04 06:30:15.036</td>\n",
       "      <td>2024-01-04 06:30:31.862</td>\n",
       "      <td>16.826</td>\n",
       "      <td>Máquina</td>\n",
       "      <td>Paradas cortas</td>\n",
       "      <td>NaN</td>\n",
       "      <td>NaN</td>\n",
       "      <td>NaN</td>\n",
       "      <td>Operario 04</td>\n",
       "      <td>1</td>\n",
       "    </tr>\n",
       "    <tr>\n",
       "      <th>2</th>\n",
       "      <td>2024-01-04 06:30:46.502</td>\n",
       "      <td>2024-01-04 06:30:58.058</td>\n",
       "      <td>11.556</td>\n",
       "      <td>Máquina</td>\n",
       "      <td>Paradas cortas</td>\n",
       "      <td>NaN</td>\n",
       "      <td>NaN</td>\n",
       "      <td>NaN</td>\n",
       "      <td>Operario 04</td>\n",
       "      <td>1</td>\n",
       "    </tr>\n",
       "  </tbody>\n",
       "</table>\n",
       "</div>"
      ],
      "text/plain": [
       "                   Inicio                     Fin  Duracion Location               Nivel 1 Nivel 2 Nivel 3 Comentarios  Team leader  Turno\n",
       "0 2024-01-04 06:30:00.000 2024-01-04 06:30:05.275     5.275  Máquina  Perdida de velocidad     NaN     NaN         NaN  Operario 04      1\n",
       "1 2024-01-04 06:30:15.036 2024-01-04 06:30:31.862    16.826  Máquina        Paradas cortas     NaN     NaN         NaN  Operario 04      1\n",
       "2 2024-01-04 06:30:46.502 2024-01-04 06:30:58.058    11.556  Máquina        Paradas cortas     NaN     NaN         NaN  Operario 04      1"
      ]
     },
     "metadata": {},
     "output_type": "display_data"
    },
    {
     "name": "stdout",
     "output_type": "stream",
     "text": [
      "\n",
      "4. Muestra final:\n"
     ]
    },
    {
     "data": {
      "application/vnd.microsoft.datawrangler.viewer.v0+json": {
       "columns": [
        {
         "name": "index",
         "rawType": "int64",
         "type": "integer"
        },
        {
         "name": "Inicio",
         "rawType": "datetime64[ns]",
         "type": "datetime"
        },
        {
         "name": "Fin",
         "rawType": "datetime64[ns]",
         "type": "datetime"
        },
        {
         "name": "Duracion",
         "rawType": "float64",
         "type": "float"
        },
        {
         "name": "Location",
         "rawType": "object",
         "type": "string"
        },
        {
         "name": "Nivel 1",
         "rawType": "object",
         "type": "string"
        },
        {
         "name": "Nivel 2",
         "rawType": "object",
         "type": "string"
        },
        {
         "name": "Nivel 3",
         "rawType": "object",
         "type": "unknown"
        },
        {
         "name": "Comentarios",
         "rawType": "object",
         "type": "string"
        },
        {
         "name": "Team leader",
         "rawType": "object",
         "type": "unknown"
        },
        {
         "name": "Turno",
         "rawType": "int64",
         "type": "integer"
        }
       ],
       "conversionMethod": "pd.DataFrame",
       "ref": "fb59a7a3-c1fb-4c4c-9e73-4db098023690",
       "rows": [
        [
         "222400",
         "2024-12-13 14:30:00",
         "2024-12-13 22:30:00",
         "28800.0",
         "Máquina",
         "El sistema no funciona",
         "Network disconnection",
         null,
         "Network",
         "Operario 02",
         "6"
        ],
        [
         "222401",
         "2024-12-13 22:45:00",
         "2024-12-14 06:00:00",
         "26100.0",
         "Máquina",
         "El sistema no funciona",
         "Network disconnection",
         null,
         "Network",
         null,
         "16"
        ],
        [
         "222402",
         "2024-12-13 22:45:00",
         "2024-12-14 06:00:00",
         "26100.0",
         "Máquina",
         "El sistema no funciona",
         "Network disconnection",
         null,
         "Network",
         "Operario 03",
         "16"
        ]
       ],
       "shape": {
        "columns": 10,
        "rows": 3
       }
      },
      "text/html": [
       "<div>\n",
       "<style scoped>\n",
       "    .dataframe tbody tr th:only-of-type {\n",
       "        vertical-align: middle;\n",
       "    }\n",
       "\n",
       "    .dataframe tbody tr th {\n",
       "        vertical-align: top;\n",
       "    }\n",
       "\n",
       "    .dataframe thead th {\n",
       "        text-align: right;\n",
       "    }\n",
       "</style>\n",
       "<table border=\"1\" class=\"dataframe\">\n",
       "  <thead>\n",
       "    <tr style=\"text-align: right;\">\n",
       "      <th></th>\n",
       "      <th>Inicio</th>\n",
       "      <th>Fin</th>\n",
       "      <th>Duracion</th>\n",
       "      <th>Location</th>\n",
       "      <th>Nivel 1</th>\n",
       "      <th>Nivel 2</th>\n",
       "      <th>Nivel 3</th>\n",
       "      <th>Comentarios</th>\n",
       "      <th>Team leader</th>\n",
       "      <th>Turno</th>\n",
       "    </tr>\n",
       "  </thead>\n",
       "  <tbody>\n",
       "    <tr>\n",
       "      <th>222400</th>\n",
       "      <td>2024-12-13 14:30:00</td>\n",
       "      <td>2024-12-13 22:30:00</td>\n",
       "      <td>28800.0</td>\n",
       "      <td>Máquina</td>\n",
       "      <td>El sistema no funciona</td>\n",
       "      <td>Network disconnection</td>\n",
       "      <td>NaN</td>\n",
       "      <td>Network</td>\n",
       "      <td>Operario 02</td>\n",
       "      <td>6</td>\n",
       "    </tr>\n",
       "    <tr>\n",
       "      <th>222401</th>\n",
       "      <td>2024-12-13 22:45:00</td>\n",
       "      <td>2024-12-14 06:00:00</td>\n",
       "      <td>26100.0</td>\n",
       "      <td>Máquina</td>\n",
       "      <td>El sistema no funciona</td>\n",
       "      <td>Network disconnection</td>\n",
       "      <td>NaN</td>\n",
       "      <td>Network</td>\n",
       "      <td>NaN</td>\n",
       "      <td>16</td>\n",
       "    </tr>\n",
       "    <tr>\n",
       "      <th>222402</th>\n",
       "      <td>2024-12-13 22:45:00</td>\n",
       "      <td>2024-12-14 06:00:00</td>\n",
       "      <td>26100.0</td>\n",
       "      <td>Máquina</td>\n",
       "      <td>El sistema no funciona</td>\n",
       "      <td>Network disconnection</td>\n",
       "      <td>NaN</td>\n",
       "      <td>Network</td>\n",
       "      <td>Operario 03</td>\n",
       "      <td>16</td>\n",
       "    </tr>\n",
       "  </tbody>\n",
       "</table>\n",
       "</div>"
      ],
      "text/plain": [
       "                    Inicio                 Fin  Duracion Location                 Nivel 1                Nivel 2 Nivel 3 Comentarios  Team leader  Turno\n",
       "222400 2024-12-13 14:30:00 2024-12-13 22:30:00   28800.0  Máquina  El sistema no funciona  Network disconnection     NaN     Network  Operario 02      6\n",
       "222401 2024-12-13 22:45:00 2024-12-14 06:00:00   26100.0  Máquina  El sistema no funciona  Network disconnection     NaN     Network          NaN     16\n",
       "222402 2024-12-13 22:45:00 2024-12-14 06:00:00   26100.0  Máquina  El sistema no funciona  Network disconnection     NaN     Network  Operario 03     16"
      ]
     },
     "metadata": {},
     "output_type": "display_data"
    },
    {
     "name": "stdout",
     "output_type": "stream",
     "text": [
      "\n",
      "5. Rango temporal:\n",
      "   Inicio: 2024-01-04 06:30:00\n",
      "   Fin: 2024-12-14 06:00:00\n"
     ]
    }
   ],
   "source": [
    "resumen_inicial(df)"
   ]
  },
  {
   "cell_type": "markdown",
   "metadata": {},
   "source": [
    "### Hallazgos Iniciales:\n",
    "1. **Cobertura Temporal**: \n",
    "   - Datos desde 04-Ene-2024 06:30 hasta 14-Dic-2024 06:00\n",
    "   - Abarca prácticamente todo el año operativo 2024\n",
    "\n",
    "2. **Estructura de Datos**:\n",
    "   - Columnas mixtas (datetime, objetos, categóricas)\n",
    "   - Presencia de valores nulos en columnas de texto\n",
    "\n",
    "3. **Problemas Detectados**:\n",
    "   - Inconsistencias en formatos datetime (milisegundos irregulares)\n",
    "   - Necesidad de estandarización de textos\n",
    "   - Requiere tratamiento de valores faltantes"
   ]
  },
  {
   "cell_type": "markdown",
   "metadata": {},
   "source": [
    "## Próximos Pasos:\n",
    "1. Normalización de formatos temporales\n",
    "2. Tratamiento de valores nulos\n",
    "3. Estandarización de textos\n",
    "4. Validación de rangos lógicos"
   ]
  },
  {
   "cell_type": "markdown",
   "metadata": {},
   "source": [
    "## 3. Normalización de Datos Temporales\n",
    "\n",
    "### Objetivo:\n",
    "Estandarizar el formato de las marcas temporales para garantizar consistencia en los análisis posteriores."
   ]
  },
  {
   "cell_type": "code",
   "execution_count": 7,
   "metadata": {},
   "outputs": [
    {
     "name": "stdout",
     "output_type": "stream",
     "text": [
      "\n",
      "Verificación de tipos de datos:\n",
      "Inicio    datetime64[ns]\n",
      "Fin       datetime64[ns]\n",
      "dtype: object\n"
     ]
    }
   ],
   "source": [
    "# 3.1 Eliminación de milisegundos inconsistentes\n",
    "df['Inicio'] = df['Inicio'].dt.floor('s')  # Más eficiente que strftime\n",
    "df['Fin'] = df['Fin'].dt.floor('s')\n",
    "\n",
    "# Verificación\n",
    "print(\"\\nVerificación de tipos de datos:\")\n",
    "print(df[['Inicio', 'Fin']].dtypes)"
   ]
  },
  {
   "cell_type": "markdown",
   "metadata": {},
   "source": [
    "### Justificación Técnica:\n",
    "- `dt.floor('s')` es más eficiente que conversión a string y vuelta a datetime\n",
    "- Mantiene el tipo datetime64[ns] nativo de pandas\n",
    "- Elimina inconsistencias en subsegundos"
   ]
  },
  {
   "cell_type": "markdown",
   "metadata": {},
   "source": [
    "## 4. Manejo de valores faltantes"
   ]
  },
  {
   "cell_type": "code",
   "execution_count": 8,
   "metadata": {},
   "outputs": [
    {
     "name": "stdout",
     "output_type": "stream",
     "text": [
      "\n",
      "[ANÁLISIS] Reporte de valores faltantes:\n"
     ]
    },
    {
     "data": {
      "application/vnd.microsoft.datawrangler.viewer.v0+json": {
       "columns": [
        {
         "name": "index",
         "rawType": "object",
         "type": "string"
        },
        {
         "name": "Valores_Nulos",
         "rawType": "int64",
         "type": "integer"
        },
        {
         "name": "Porcentaje_Nulos",
         "rawType": "float64",
         "type": "float"
        }
       ],
       "conversionMethod": "pd.DataFrame",
       "ref": "880d996a-2f10-4c58-a957-37016d7f51a4",
       "rows": [
        [
         "Inicio",
         "0",
         "0.0"
        ],
        [
         "Fin",
         "0",
         "0.0"
        ],
        [
         "Duracion",
         "0",
         "0.0"
        ],
        [
         "Location",
         "0",
         "0.0"
        ],
        [
         "Nivel 1",
         "0",
         "0.0"
        ],
        [
         "Nivel 2",
         "202929",
         "91.24"
        ],
        [
         "Nivel 3",
         "205852",
         "92.56"
        ],
        [
         "Comentarios",
         "210379",
         "94.59"
        ],
        [
         "Team leader",
         "819",
         "0.37"
        ],
        [
         "Turno",
         "0",
         "0.0"
        ]
       ],
       "shape": {
        "columns": 2,
        "rows": 10
       }
      },
      "text/html": [
       "<div>\n",
       "<style scoped>\n",
       "    .dataframe tbody tr th:only-of-type {\n",
       "        vertical-align: middle;\n",
       "    }\n",
       "\n",
       "    .dataframe tbody tr th {\n",
       "        vertical-align: top;\n",
       "    }\n",
       "\n",
       "    .dataframe thead th {\n",
       "        text-align: right;\n",
       "    }\n",
       "</style>\n",
       "<table border=\"1\" class=\"dataframe\">\n",
       "  <thead>\n",
       "    <tr style=\"text-align: right;\">\n",
       "      <th></th>\n",
       "      <th>Valores_Nulos</th>\n",
       "      <th>Porcentaje_Nulos</th>\n",
       "    </tr>\n",
       "  </thead>\n",
       "  <tbody>\n",
       "    <tr>\n",
       "      <th>Inicio</th>\n",
       "      <td>0</td>\n",
       "      <td>0.00</td>\n",
       "    </tr>\n",
       "    <tr>\n",
       "      <th>Fin</th>\n",
       "      <td>0</td>\n",
       "      <td>0.00</td>\n",
       "    </tr>\n",
       "    <tr>\n",
       "      <th>Duracion</th>\n",
       "      <td>0</td>\n",
       "      <td>0.00</td>\n",
       "    </tr>\n",
       "    <tr>\n",
       "      <th>Location</th>\n",
       "      <td>0</td>\n",
       "      <td>0.00</td>\n",
       "    </tr>\n",
       "    <tr>\n",
       "      <th>Nivel 1</th>\n",
       "      <td>0</td>\n",
       "      <td>0.00</td>\n",
       "    </tr>\n",
       "    <tr>\n",
       "      <th>Nivel 2</th>\n",
       "      <td>202929</td>\n",
       "      <td>91.24</td>\n",
       "    </tr>\n",
       "    <tr>\n",
       "      <th>Nivel 3</th>\n",
       "      <td>205852</td>\n",
       "      <td>92.56</td>\n",
       "    </tr>\n",
       "    <tr>\n",
       "      <th>Comentarios</th>\n",
       "      <td>210379</td>\n",
       "      <td>94.59</td>\n",
       "    </tr>\n",
       "    <tr>\n",
       "      <th>Team leader</th>\n",
       "      <td>819</td>\n",
       "      <td>0.37</td>\n",
       "    </tr>\n",
       "    <tr>\n",
       "      <th>Turno</th>\n",
       "      <td>0</td>\n",
       "      <td>0.00</td>\n",
       "    </tr>\n",
       "  </tbody>\n",
       "</table>\n",
       "</div>"
      ],
      "text/plain": [
       "             Valores_Nulos  Porcentaje_Nulos\n",
       "Inicio                   0              0.00\n",
       "Fin                      0              0.00\n",
       "Duracion                 0              0.00\n",
       "Location                 0              0.00\n",
       "Nivel 1                  0              0.00\n",
       "Nivel 2             202929             91.24\n",
       "Nivel 3             205852             92.56\n",
       "Comentarios         210379             94.59\n",
       "Team leader            819              0.37\n",
       "Turno                    0              0.00"
      ]
     },
     "metadata": {},
     "output_type": "display_data"
    },
    {
     "name": "stdout",
     "output_type": "stream",
     "text": [
      "\n",
      "Espacios en blanco: {'Location': 0, 'Nivel 1': 0, 'Nivel 2': 0, 'Nivel 3': 0, 'Comentarios': 0, 'Team leader': 0}\n"
     ]
    }
   ],
   "source": [
    "## 4. Manejo de Valores Faltantes\n",
    "\n",
    "def reporte_valores_faltantes(df):\n",
    "    \"\"\"Genera un reporte detallado de valores nulos\"\"\"\n",
    "    print(\"\\n[ANÁLISIS] Reporte de valores faltantes:\")\n",
    "    null_report = pd.DataFrame({\n",
    "        'Valores_Nulos': df.isna().sum(),\n",
    "        'Porcentaje_Nulos': (df.isna().mean()*100).round(2)\n",
    "    })\n",
    "    display(null_report)\n",
    "    \n",
    "    # Análisis de strings vacíos\n",
    "    str_cols = df.select_dtypes(include=['object']).columns\n",
    "    white_spaces = {col: df[col].str.isspace().sum() for col in str_cols}\n",
    "    print(\"\\nEspacios en blanco:\", white_spaces)\n",
    "\n",
    "reporte_valores_faltantes(df)"
   ]
  },
  {
   "cell_type": "code",
   "execution_count": 9,
   "metadata": {},
   "outputs": [
    {
     "name": "stdout",
     "output_type": "stream",
     "text": [
      "\n",
      "[INFO] Imputando valores faltantes...\n"
     ]
    }
   ],
   "source": [
    "# 4.1 Tratamiento de valores nulos\n",
    "print(\"\\n[INFO] Imputando valores faltantes...\")\n",
    "df.fillna('missing', inplace=True)  # Conservamos 'missing' para trazabilidad"
   ]
  },
  {
   "cell_type": "code",
   "execution_count": 10,
   "metadata": {},
   "outputs": [
    {
     "name": "stdout",
     "output_type": "stream",
     "text": [
      "\n",
      "[ANÁLISIS] Reporte de valores faltantes:\n"
     ]
    },
    {
     "data": {
      "application/vnd.microsoft.datawrangler.viewer.v0+json": {
       "columns": [
        {
         "name": "index",
         "rawType": "object",
         "type": "string"
        },
        {
         "name": "Valores_Nulos",
         "rawType": "int64",
         "type": "integer"
        },
        {
         "name": "Porcentaje_Nulos",
         "rawType": "float64",
         "type": "float"
        }
       ],
       "conversionMethod": "pd.DataFrame",
       "ref": "10c3c708-f7a3-4d09-b71b-077084b6dc94",
       "rows": [
        [
         "Inicio",
         "0",
         "0.0"
        ],
        [
         "Fin",
         "0",
         "0.0"
        ],
        [
         "Duracion",
         "0",
         "0.0"
        ],
        [
         "Location",
         "0",
         "0.0"
        ],
        [
         "Nivel 1",
         "0",
         "0.0"
        ],
        [
         "Nivel 2",
         "0",
         "0.0"
        ],
        [
         "Nivel 3",
         "0",
         "0.0"
        ],
        [
         "Comentarios",
         "0",
         "0.0"
        ],
        [
         "Team leader",
         "0",
         "0.0"
        ],
        [
         "Turno",
         "0",
         "0.0"
        ]
       ],
       "shape": {
        "columns": 2,
        "rows": 10
       }
      },
      "text/html": [
       "<div>\n",
       "<style scoped>\n",
       "    .dataframe tbody tr th:only-of-type {\n",
       "        vertical-align: middle;\n",
       "    }\n",
       "\n",
       "    .dataframe tbody tr th {\n",
       "        vertical-align: top;\n",
       "    }\n",
       "\n",
       "    .dataframe thead th {\n",
       "        text-align: right;\n",
       "    }\n",
       "</style>\n",
       "<table border=\"1\" class=\"dataframe\">\n",
       "  <thead>\n",
       "    <tr style=\"text-align: right;\">\n",
       "      <th></th>\n",
       "      <th>Valores_Nulos</th>\n",
       "      <th>Porcentaje_Nulos</th>\n",
       "    </tr>\n",
       "  </thead>\n",
       "  <tbody>\n",
       "    <tr>\n",
       "      <th>Inicio</th>\n",
       "      <td>0</td>\n",
       "      <td>0.0</td>\n",
       "    </tr>\n",
       "    <tr>\n",
       "      <th>Fin</th>\n",
       "      <td>0</td>\n",
       "      <td>0.0</td>\n",
       "    </tr>\n",
       "    <tr>\n",
       "      <th>Duracion</th>\n",
       "      <td>0</td>\n",
       "      <td>0.0</td>\n",
       "    </tr>\n",
       "    <tr>\n",
       "      <th>Location</th>\n",
       "      <td>0</td>\n",
       "      <td>0.0</td>\n",
       "    </tr>\n",
       "    <tr>\n",
       "      <th>Nivel 1</th>\n",
       "      <td>0</td>\n",
       "      <td>0.0</td>\n",
       "    </tr>\n",
       "    <tr>\n",
       "      <th>Nivel 2</th>\n",
       "      <td>0</td>\n",
       "      <td>0.0</td>\n",
       "    </tr>\n",
       "    <tr>\n",
       "      <th>Nivel 3</th>\n",
       "      <td>0</td>\n",
       "      <td>0.0</td>\n",
       "    </tr>\n",
       "    <tr>\n",
       "      <th>Comentarios</th>\n",
       "      <td>0</td>\n",
       "      <td>0.0</td>\n",
       "    </tr>\n",
       "    <tr>\n",
       "      <th>Team leader</th>\n",
       "      <td>0</td>\n",
       "      <td>0.0</td>\n",
       "    </tr>\n",
       "    <tr>\n",
       "      <th>Turno</th>\n",
       "      <td>0</td>\n",
       "      <td>0.0</td>\n",
       "    </tr>\n",
       "  </tbody>\n",
       "</table>\n",
       "</div>"
      ],
      "text/plain": [
       "             Valores_Nulos  Porcentaje_Nulos\n",
       "Inicio                   0               0.0\n",
       "Fin                      0               0.0\n",
       "Duracion                 0               0.0\n",
       "Location                 0               0.0\n",
       "Nivel 1                  0               0.0\n",
       "Nivel 2                  0               0.0\n",
       "Nivel 3                  0               0.0\n",
       "Comentarios              0               0.0\n",
       "Team leader              0               0.0\n",
       "Turno                    0               0.0"
      ]
     },
     "metadata": {},
     "output_type": "display_data"
    },
    {
     "name": "stdout",
     "output_type": "stream",
     "text": [
      "\n",
      "Espacios en blanco: {'Location': 0, 'Nivel 1': 0, 'Nivel 2': 0, 'Nivel 3': 0, 'Comentarios': 0, 'Team leader': 0}\n"
     ]
    }
   ],
   "source": [
    "reporte_valores_faltantes(df)"
   ]
  },
  {
   "cell_type": "markdown",
   "metadata": {},
   "source": [
    "### Estrategia de Tratamiento:\n",
    "- Campos categóricos: imputación con 'missing' (explícito para análisis).\n",
    "- Campos temporales/númericos: no requirieron imputación.\n",
    "- Documentación de decisiones para trazabilidad."
   ]
  },
  {
   "cell_type": "markdown",
   "metadata": {},
   "source": [
    "## 5. Consolidación de Registros"
   ]
  },
  {
   "cell_type": "code",
   "execution_count": 11,
   "metadata": {},
   "outputs": [
    {
     "name": "stdout",
     "output_type": "stream",
     "text": [
      "\n",
      "[INFO] Creando clave de agrupamiento...\n"
     ]
    }
   ],
   "source": [
    "# 5.1 Creación de clave de agrupamiento\n",
    "print(\"\\n[INFO] Creando clave de agrupamiento...\")\n",
    "df['Shift'] = (df[['Nivel 1', 'Nivel 2', 'Nivel 3', 'Comentarios']]\n",
    "               .ne(df[['Nivel 1', 'Nivel 2', 'Nivel 3', 'Comentarios']].shift())\n",
    "               .any(axis=1)\n",
    "               .cumsum())"
   ]
  },
  {
   "cell_type": "code",
   "execution_count": 12,
   "metadata": {},
   "outputs": [
    {
     "name": "stdout",
     "output_type": "stream",
     "text": [
      "[INFO] Consolidando registros...\n"
     ]
    }
   ],
   "source": [
    "# 5.2 Agregación de registros consecutivos\n",
    "print(\"[INFO] Consolidando registros...\")\n",
    "agg_rules = {\n",
    "    'Inicio': 'first',\n",
    "    'Fin': 'last',\n",
    "    'Duracion': 'sum',\n",
    "    'Location': 'first',\n",
    "    'Nivel 1': 'first',\n",
    "    'Nivel 2': 'first',\n",
    "    'Nivel 3': 'first',\n",
    "    'Comentarios': 'first',\n",
    "    'Team leader': 'first',\n",
    "    'Turno': 'first'\n",
    "}\n",
    "\n",
    "sintetized_df = df.groupby('Shift', as_index=False).agg(agg_rules)"
   ]
  },
  {
   "cell_type": "code",
   "execution_count": 13,
   "metadata": {},
   "outputs": [],
   "source": [
    "# Validación de integridad\n",
    "original_duration = df['Duracion'].sum()\n",
    "consolidated_duration = sintetized_df['Duracion'].sum()\n",
    "assert abs(original_duration - consolidated_duration) < 1e-6, \"Error en consolidación: discrepancia en duraciones\""
   ]
  },
  {
   "cell_type": "code",
   "execution_count": 14,
   "metadata": {},
   "outputs": [
    {
     "name": "stdout",
     "output_type": "stream",
     "text": [
      "\n",
      "Reducción de dataset: 222403 -> 48495 registros\n",
      "Reducción del 78.19%\n"
     ]
    }
   ],
   "source": [
    "print(f\"\\nReducción de dataset: {len(df)} -> {len(sintetized_df)} registros\")\n",
    "print(f\"Reducción del {(1-len(sintetized_df)/len(df))*100:.2f}%\")"
   ]
  },
  {
   "cell_type": "markdown",
   "metadata": {},
   "source": [
    "## 6. Enriquecimiento de Datos\n",
    "\n",
    "### Objetivos:\n",
    "1. Añadir metadatos temporales y conversiones de unidades para facilitar el análisis.\n",
    "2. Eliminar columna redundante ('Duracion')."
   ]
  },
  {
   "cell_type": "code",
   "execution_count": 15,
   "metadata": {},
   "outputs": [],
   "source": [
    "# 6.1 Extracción de componentes temporales\n",
    "sintetized_df['Mes'] = sintetized_df['Inicio'].dt.month\n",
    "sintetized_df['Año'] = sintetized_df['Inicio'].dt.year\n",
    "sintetized_df['Dia_Semana'] = sintetized_df['Inicio'].dt.day_name(locale='es_ES')"
   ]
  },
  {
   "cell_type": "code",
   "execution_count": 16,
   "metadata": {},
   "outputs": [],
   "source": [
    "# 6.2 Conversión de unidades\n",
    "sintetized_df['Minutos'] = sintetized_df['Duracion'] / 60\n",
    "sintetized_df['Horas'] = sintetized_df['Duracion'] / 3600"
   ]
  },
  {
   "cell_type": "code",
   "execution_count": 17,
   "metadata": {},
   "outputs": [],
   "source": [
    "# 6.3 Reorganización de columnas\n",
    "column_order = [\n",
    "    'Inicio', 'Fin', 'Minutos', 'Horas', \n",
    "    'Location', 'Nivel 1', 'Nivel 2', 'Nivel 3',\n",
    "    'Comentarios', 'Team leader', 'Turno',\n",
    "    'Mes', 'Año', 'Dia_Semana'\n",
    "]\n",
    "sintetized_df = sintetized_df[column_order]"
   ]
  },
  {
   "cell_type": "markdown",
   "metadata": {},
   "source": [
    "### Documentación de Nuevas Columnas:\n",
    "1. **Mes/Año**: Para análisis temporal agregado\n",
    "2. **Dia_Semana**: Identificación de patrones semanales\n",
    "3. **Minutos/Horas**: Unidades más intuitivas para análisis"
   ]
  },
  {
   "cell_type": "code",
   "execution_count": 18,
   "metadata": {},
   "outputs": [
    {
     "name": "stdout",
     "output_type": "stream",
     "text": [
      "\n",
      "[INFO] Estructura final del dataset:\n"
     ]
    },
    {
     "data": {
      "application/vnd.microsoft.datawrangler.viewer.v0+json": {
       "columns": [
        {
         "name": "index",
         "rawType": "int64",
         "type": "integer"
        },
        {
         "name": "Inicio",
         "rawType": "datetime64[ns]",
         "type": "datetime"
        },
        {
         "name": "Fin",
         "rawType": "datetime64[ns]",
         "type": "datetime"
        },
        {
         "name": "Minutos",
         "rawType": "float64",
         "type": "float"
        },
        {
         "name": "Horas",
         "rawType": "float64",
         "type": "float"
        },
        {
         "name": "Location",
         "rawType": "object",
         "type": "string"
        },
        {
         "name": "Nivel 1",
         "rawType": "object",
         "type": "string"
        },
        {
         "name": "Nivel 2",
         "rawType": "object",
         "type": "string"
        },
        {
         "name": "Nivel 3",
         "rawType": "object",
         "type": "string"
        },
        {
         "name": "Comentarios",
         "rawType": "object",
         "type": "string"
        },
        {
         "name": "Team leader",
         "rawType": "object",
         "type": "string"
        },
        {
         "name": "Turno",
         "rawType": "int64",
         "type": "integer"
        },
        {
         "name": "Mes",
         "rawType": "int32",
         "type": "integer"
        },
        {
         "name": "Año",
         "rawType": "int32",
         "type": "integer"
        },
        {
         "name": "Dia_Semana",
         "rawType": "object",
         "type": "string"
        }
       ],
       "conversionMethod": "pd.DataFrame",
       "ref": "670d09cc-9d5d-4395-8f6e-8d5491b11627",
       "rows": [
        [
         "0",
         "2024-01-04 06:30:00",
         "2024-01-04 06:30:05",
         "0.08791666666666667",
         "0.0014652777777777778",
         "Máquina",
         "Perdida de velocidad",
         "missing",
         "missing",
         "missing",
         "Operario 04",
         "1",
         "1",
         "2024",
         "Jueves"
        ],
        [
         "1",
         "2024-01-04 06:30:15",
         "2024-01-04 06:30:58",
         "0.4730333333333333",
         "0.007883888888888888",
         "Máquina",
         "Paradas cortas",
         "missing",
         "missing",
         "missing",
         "Operario 04",
         "1",
         "1",
         "2024",
         "Jueves"
        ],
        [
         "2",
         "2024-01-04 06:31:17",
         "2024-01-04 06:31:24",
         "0.1081",
         "0.0018016666666666667",
         "Máquina",
         "Perdida de velocidad",
         "missing",
         "missing",
         "missing",
         "Operario 04",
         "1",
         "1",
         "2024",
         "Jueves"
        ]
       ],
       "shape": {
        "columns": 14,
        "rows": 3
       }
      },
      "text/html": [
       "<div>\n",
       "<style scoped>\n",
       "    .dataframe tbody tr th:only-of-type {\n",
       "        vertical-align: middle;\n",
       "    }\n",
       "\n",
       "    .dataframe tbody tr th {\n",
       "        vertical-align: top;\n",
       "    }\n",
       "\n",
       "    .dataframe thead th {\n",
       "        text-align: right;\n",
       "    }\n",
       "</style>\n",
       "<table border=\"1\" class=\"dataframe\">\n",
       "  <thead>\n",
       "    <tr style=\"text-align: right;\">\n",
       "      <th></th>\n",
       "      <th>Inicio</th>\n",
       "      <th>Fin</th>\n",
       "      <th>Minutos</th>\n",
       "      <th>Horas</th>\n",
       "      <th>Location</th>\n",
       "      <th>Nivel 1</th>\n",
       "      <th>Nivel 2</th>\n",
       "      <th>Nivel 3</th>\n",
       "      <th>Comentarios</th>\n",
       "      <th>Team leader</th>\n",
       "      <th>Turno</th>\n",
       "      <th>Mes</th>\n",
       "      <th>Año</th>\n",
       "      <th>Dia_Semana</th>\n",
       "    </tr>\n",
       "  </thead>\n",
       "  <tbody>\n",
       "    <tr>\n",
       "      <th>0</th>\n",
       "      <td>2024-01-04 06:30:00</td>\n",
       "      <td>2024-01-04 06:30:05</td>\n",
       "      <td>0.087917</td>\n",
       "      <td>0.001465</td>\n",
       "      <td>Máquina</td>\n",
       "      <td>Perdida de velocidad</td>\n",
       "      <td>missing</td>\n",
       "      <td>missing</td>\n",
       "      <td>missing</td>\n",
       "      <td>Operario 04</td>\n",
       "      <td>1</td>\n",
       "      <td>1</td>\n",
       "      <td>2024</td>\n",
       "      <td>Jueves</td>\n",
       "    </tr>\n",
       "    <tr>\n",
       "      <th>1</th>\n",
       "      <td>2024-01-04 06:30:15</td>\n",
       "      <td>2024-01-04 06:30:58</td>\n",
       "      <td>0.473033</td>\n",
       "      <td>0.007884</td>\n",
       "      <td>Máquina</td>\n",
       "      <td>Paradas cortas</td>\n",
       "      <td>missing</td>\n",
       "      <td>missing</td>\n",
       "      <td>missing</td>\n",
       "      <td>Operario 04</td>\n",
       "      <td>1</td>\n",
       "      <td>1</td>\n",
       "      <td>2024</td>\n",
       "      <td>Jueves</td>\n",
       "    </tr>\n",
       "    <tr>\n",
       "      <th>2</th>\n",
       "      <td>2024-01-04 06:31:17</td>\n",
       "      <td>2024-01-04 06:31:24</td>\n",
       "      <td>0.108100</td>\n",
       "      <td>0.001802</td>\n",
       "      <td>Máquina</td>\n",
       "      <td>Perdida de velocidad</td>\n",
       "      <td>missing</td>\n",
       "      <td>missing</td>\n",
       "      <td>missing</td>\n",
       "      <td>Operario 04</td>\n",
       "      <td>1</td>\n",
       "      <td>1</td>\n",
       "      <td>2024</td>\n",
       "      <td>Jueves</td>\n",
       "    </tr>\n",
       "  </tbody>\n",
       "</table>\n",
       "</div>"
      ],
      "text/plain": [
       "               Inicio                 Fin   Minutos     Horas Location               Nivel 1  Nivel 2  Nivel 3 Comentarios  Team leader  Turno  Mes   Año Dia_Semana\n",
       "0 2024-01-04 06:30:00 2024-01-04 06:30:05  0.087917  0.001465  Máquina  Perdida de velocidad  missing  missing     missing  Operario 04      1    1  2024     Jueves\n",
       "1 2024-01-04 06:30:15 2024-01-04 06:30:58  0.473033  0.007884  Máquina        Paradas cortas  missing  missing     missing  Operario 04      1    1  2024     Jueves\n",
       "2 2024-01-04 06:31:17 2024-01-04 06:31:24  0.108100  0.001802  Máquina  Perdida de velocidad  missing  missing     missing  Operario 04      1    1  2024     Jueves"
      ]
     },
     "metadata": {},
     "output_type": "display_data"
    },
    {
     "name": "stdout",
     "output_type": "stream",
     "text": [
      "\n",
      "Tipos de datos finales:\n",
      "Inicio         datetime64[ns]\n",
      "Fin            datetime64[ns]\n",
      "Minutos               float64\n",
      "Horas                 float64\n",
      "Location               object\n",
      "Nivel 1                object\n",
      "Nivel 2                object\n",
      "Nivel 3                object\n",
      "Comentarios            object\n",
      "Team leader            object\n",
      "Turno                   int64\n",
      "Mes                     int32\n",
      "Año                     int32\n",
      "Dia_Semana             object\n",
      "dtype: object\n"
     ]
    }
   ],
   "source": [
    "print(\"\\n[INFO] Estructura final del dataset:\")\n",
    "display(sintetized_df.head(3))\n",
    "print(\"\\nTipos de datos finales:\")\n",
    "print(sintetized_df.dtypes)"
   ]
  },
  {
   "cell_type": "code",
   "execution_count": 19,
   "metadata": {},
   "outputs": [
    {
     "name": "stdout",
     "output_type": "stream",
     "text": [
      "\n",
      "[INFO] Tipos de datos finales:\n",
      "Turno    object\n",
      "Mes      object\n",
      "Año      object\n",
      "dtype: object\n"
     ]
    }
   ],
   "source": [
    "# Antes de exportar a MySQL\n",
    "sintetized_df['Turno'] = sintetized_df['Turno'].astype('object')\n",
    "sintetized_df['Mes'] = sintetized_df['Mes'].astype('object')\n",
    "sintetized_df['Año'] = sintetized_df['Año'].astype('object')\n",
    "\n",
    "# Verificación\n",
    "print(\"\\n[INFO] Tipos de datos finales:\")\n",
    "print(sintetized_df[['Turno', 'Mes', 'Año']].dtypes)"
   ]
  },
  {
   "cell_type": "markdown",
   "metadata": {},
   "source": [
    "## 7. Análisis de Relación Temporal entre Eventos (Operaciones Especiales)\n",
    "\n",
    "### Objetivo:\n",
    "Identificar y marcar relaciones temporales entre eventos de 'Perdida de velocidad' y otras causas específicas ('Cambio de proceso', 'Fallas del proceso', 'Avería'),\n",
    "para facilitar el análisis de causalidad y correlación en los procesos productivos.\n",
    "\n",
    "### Contexto Técnico:\n",
    "Los eventos de 'perdida de velocidad' son críticos porque:\n",
    "1. Representan pérdidas de productividad no atribuidas directamente a paradas.\n",
    "2. Suelen estar relacionados causalmente con otros tipos de eventos.\n",
    "3. Requieren análisis especial por su naturaleza continua (no son eventos discretos)."
   ]
  },
  {
   "cell_type": "code",
   "execution_count": 20,
   "metadata": {},
   "outputs": [],
   "source": [
    "# 7.1 Configuración de parámetros\n",
    "UMBRAL_TIEMPO_SEG = 180  # 3 minutos en segundos\n",
    "CAUSAS_RELACIONADAS = [\n",
    "    'Cambio de proceso',      \n",
    "    'Fallas del proceso',      \n",
    "    'Averia'                  \n",
    "]"
   ]
  },
  {
   "cell_type": "markdown",
   "metadata": {},
   "source": [
    "### Lógica de las Operaciones:\n",
    "1. Forward Analysis (agregar_comentario):\n",
    "   - Cuando 'Perdida de velocidad' ocurre <=3min antes de una causa relacionada\n",
    "   - Marcamos con comentario explicativo\n",
    "\n",
    "2. Backward Analysis (copiar_valores_anterior):\n",
    "   - Cuando 'Perdida de velocidad' ocurre <=3min después de cualquier causa\n",
    "   - Copiamos niveles 2 y 3 de la causa anterior"
   ]
  },
  {
   "cell_type": "code",
   "execution_count": 21,
   "metadata": {},
   "outputs": [],
   "source": [
    "def detectar_relacion_speedloss(sintetized_df):\n",
    "    \"\"\"Realiza análisis temporal de eventos de 'Perdida de velocidad' con otras causas\"\"\"\n",
    "    \n",
    "    # 7.2 Forward Analysis: 'Perdida de velocidad' -> Causa relacionada\n",
    "    print(\"\\n[INFO] Ejecutando forward analysis ('Perdida de velocidad' -> Causas)...\")\n",
    "    \n",
    "    def aplicar_forward(row):\n",
    "        if row['Nivel 1'] == 'Perdida de velocidad':\n",
    "            next_idx = row.name + 1\n",
    "            if next_idx < len(sintetized_df):\n",
    "                row_next = sintetized_df.iloc[next_idx]\n",
    "                tiempo_diferencia = (row_next['Inicio'] - row['Fin']).total_seconds()\n",
    "                if (tiempo_diferencia <= UMBRAL_TIEMPO_SEG and \n",
    "                    row_next['Nivel 1'] in CAUSAS_RELACIONADAS):\n",
    "                    return f\"Pérdida de velocidad previo a {row_next['Nivel 1']}\"\n",
    "        return row['Comentarios']\n",
    "    \n",
    "    sintetized_df['Comentarios'] = sintetized_df.apply(aplicar_forward, axis=1)\n",
    "    \n",
    "    # 7.3 Backward Analysis: Causa -> 'Perdida de velocidad'\n",
    "    print(\"[INFO] Ejecutando backward analysis (Causas -> 'Perdida de velocidad')...\")\n",
    "    \n",
    "    for i in range(1, len(sintetized_df)):\n",
    "        if (sintetized_df.at[i, 'Nivel 1'] == 'Perdida de velocidad' and\n",
    "            (sintetized_df.at[i, 'Inicio'] - sintetized_df.at[i-1, 'Fin']).total_seconds() <= UMBRAL_TIEMPO_SEG):\n",
    "            \n",
    "            sintetized_df.at[i, 'Nivel 2'] = sintetized_df.at[i-1, 'Nivel 2']\n",
    "            sintetized_df.at[i, 'Nivel 3'] = sintetized_df.at[i-1, 'Nivel 3']\n",
    "    \n",
    "    return sintetized_df"
   ]
  },
  {
   "cell_type": "code",
   "execution_count": 22,
   "metadata": {},
   "outputs": [
    {
     "name": "stdout",
     "output_type": "stream",
     "text": [
      "\n",
      "[INFO] Ejecutando forward analysis ('Perdida de velocidad' -> Causas)...\n",
      "[INFO] Ejecutando backward analysis (Causas -> 'Perdida de velocidad')...\n"
     ]
    }
   ],
   "source": [
    "# Ejecutar análisis\n",
    "sintetized_df = detectar_relacion_speedloss(sintetized_df)"
   ]
  },
  {
   "cell_type": "markdown",
   "metadata": {},
   "source": [
    "### Resultados Esperados:\n",
    "1. **Comentarios enriquecidos**: \n",
    "   - Registros de 'Perdida de velocidad' que preceden a causas relacionadas, específicamente enumeradas, tendrán comentarios explicativos, señalando esa situación.\n",
    "   \n",
    "2. **Causas propagadas**:\n",
    "   - Registros de 'Perdida de velocidad' que siguen a cualquier causa heredarán sus niveles 2 y 3.\n",
    "   - Permite rastrear el origen técnico de la pérdida de velocidad.\n",
    "\n",
    "### Validación:\n",
    "Se recomienda generar métricas post-ejecución:\n",
    "1. Conteo de relaciones 'Perdida de velocidad'-> Causa detectadas.\n",
    "2. Conteo de causas propagadas a 'Perdida de velocidad'.\n",
    "3. Distribución temporal de estos eventos."
   ]
  },
  {
   "cell_type": "code",
   "execution_count": 23,
   "metadata": {},
   "outputs": [],
   "source": [
    "def generar_reporte_relaciones(df):  # 'df' como parámetro genérico\n",
    "    forward = df['Comentarios'].str.contains('Pérdida de velocidad previo a').sum()\n",
    "    backward = sum(\n",
    "        (df['Nivel 1'] == 'Perdida de velocidad') & \n",
    "        (df['Nivel 2'] != df['Nivel 2'].shift(1))\n",
    "    )\n",
    "    \n",
    "    print(f\"\\n[REPORTE] Relaciones detectadas:\")\n",
    "    print(f\"- 'Perdida de velocidad' -> Causas relacionadas: {forward} casos\")\n",
    "    print(f\"- Causas -> 'Perdida de velocidad' (herencia): {backward} casos\")"
   ]
  },
  {
   "cell_type": "code",
   "execution_count": 24,
   "metadata": {},
   "outputs": [
    {
     "name": "stdout",
     "output_type": "stream",
     "text": [
      "\n",
      "[REPORTE] Relaciones detectadas:\n",
      "- 'Perdida de velocidad' -> Causas relacionadas: 804 casos\n",
      "- Causas -> 'Perdida de velocidad' (herencia): 94 casos\n"
     ]
    }
   ],
   "source": [
    "# Llamada con sintetized_df\n",
    "generar_reporte_relaciones(sintetized_df)"
   ]
  },
  {
   "cell_type": "markdown",
   "metadata": {},
   "source": [
    "## 8. Exportación de Resultados y Cierre de la primera etapa del Proyecto\n",
    "\n",
    "### Objetivo:\n",
    "Persistir los datos procesados en formatos adecuados para:\n",
    "1. Análisis en herramientas de BI.\n",
    "2. Integración con sistemas existentes.\n",
    "3. Desarrollo de aplicaciones ejecutables."
   ]
  },
  {
   "cell_type": "code",
   "execution_count": null,
   "metadata": {},
   "outputs": [],
   "source": [
    "# 8.1 Configuración de rutas y parámetros\n",
    "import os\n",
    "from datetime import datetime\n",
    "\n",
    "# Configuración de exportación - RUTA PERSONALIZADA\n",
    "\n",
    "RUTA_SALIDA = r\"..\\data\\cleaned-data\"\n",
    "NOMBRE_BASE = \"efectividad-de-produccion-linea1-2024-procesada\"\n",
    "VERSION = datetime.now().strftime('%Y%m%d_%H%M')\n",
    "EXTENSION = \".xlsx\"\n",
    "\n",
    "ARCHIVO_COMPLETO = os.path.join(RUTA_SALIDA, f\"{NOMBRE_BASE}_{VERSION}{EXTENSION}\")\n",
    "\n",
    "# Crear directorio si no existe\n",
    "os.makedirs(RUTA_SALIDA, exist_ok=True)"
   ]
  },
  {
   "cell_type": "code",
   "execution_count": 26,
   "metadata": {},
   "outputs": [
    {
     "name": "stdout",
     "output_type": "stream",
     "text": [
      "\n",
      "[INFO] Exportando datos a Excel...\n",
      "✔ Datos exportados a: D:\\Xequi 2024\\Proyectos_Pesonales\\Analisis-Fer-Anonimo\\data\\data-cleaned\\efectividad-de-produccion-linea1-2024-procesada_20250331_1833.xlsx\n"
     ]
    }
   ],
   "source": [
    "# 8.2 Exportación a Excel (para BI)\n",
    "print(\"\\n[INFO] Exportando datos a Excel...\")\n",
    "sintetized_df.to_excel(ARCHIVO_COMPLETO, index=False, engine='openpyxl')\n",
    "print(f\"✔ Datos exportados a: {ARCHIVO_COMPLETO}\")"
   ]
  },
  {
   "cell_type": "code",
   "execution_count": 30,
   "metadata": {},
   "outputs": [
    {
     "name": "stdout",
     "output_type": "stream",
     "text": [
      "\n",
      "[INFO] Conectando a base de datos MySQL...\n",
      "✔ Conexión a MySQL verificada\n",
      "[INFO] Subiendo datos a tabla linea_1...\n",
      "✔ Datos cargados en MySQL correctamente\n"
     ]
    }
   ],
   "source": [
    "# 8.3 Exportación a MySQL (para integración)\n",
    "\n",
    "from dotenv import load_dotenv\n",
    "import os\n",
    "from sqlalchemy import create_engine\n",
    "from sqlalchemy.types import DateTime, Float, String\n",
    "import sys\n",
    "\n",
    "# Cargar variables\n",
    "load_dotenv()  # Busca automáticamente el archivo .env\n",
    "\n",
    "print(\"\\n[INFO] Conectando a base de datos MySQL...\")\n",
    "try:\n",
    "    \n",
    "    # Verificar variables de entorno\n",
    "    required_vars = ['DB_USER', 'DB_PASSWORD', 'DB_HOST', 'DB_PORT', 'DB_NAME']\n",
    "    missing_vars = [var for var in required_vars if not os.getenv(var)]\n",
    "    \n",
    "    if missing_vars:\n",
    "        raise ValueError(f\"Variables de entorno faltantes: {', '.join(missing_vars)}\")\n",
    "       \n",
    "    # Configuración de tipos\n",
    "    schema = {\n",
    "        'Inicio': DateTime(),\n",
    "        'Fin': DateTime(),\n",
    "        'Minutos': Float(),\n",
    "        'Horas': Float(),\n",
    "        'Location': String(45),\n",
    "        'Nivel 1': String(125),  # Nota: Usar el nombre original de la columna\n",
    "        'Nivel 2': String(125),\n",
    "        'Nivel 3': String(125),\n",
    "        'Comentarios': String(500),\n",
    "        'Team leader': String(45),  # Asegurar matching con nombres de columnas\n",
    "        'Turno': String(45),\n",
    "        'Mes': String(45),\n",
    "        'Año': String(45),\n",
    "        'Dia_Semana': String(45)\n",
    "    }\n",
    "    \n",
    "    # Conexión\n",
    "    engine = create_engine(\n",
    "        f\"mysql+pymysql://{os.getenv('DB_USER')}:{os.getenv('DB_PASSWORD')}@\"\n",
    "        f\"{os.getenv('DB_HOST')}:{os.getenv('DB_PORT')}/{os.getenv('DB_NAME')}\",\n",
    "        connect_args={\n",
    "            'ssl': {'ssl_mode': 'preferred'}  # Opcional para conexiones seguras\n",
    "        },\n",
    "        pool_pre_ping=True  # Prueba la conexión antes de usarla\n",
    "    )\n",
    "    \n",
    "    # Test de conexión\n",
    "    with engine.connect() as conn:\n",
    "        print(\"✔ Conexión a MySQL verificada\")\n",
    "    \n",
    "    # Exportación con configuración segura\n",
    "    tabla_mysql = 'linea_1'\n",
    "    \n",
    "    print(f\"[INFO] Subiendo datos a tabla {tabla_mysql}...\")\n",
    "    sintetized_df.to_sql(\n",
    "        name=tabla_mysql,\n",
    "        con=engine,\n",
    "        if_exists='append',  # Correcto para tu caso de uso\n",
    "        index=False,\n",
    "        dtype=schema,\n",
    "        chunksize=1000,  # Mejor rendimiento para grandes volúmenes\n",
    "        method='multi'  # Insersión más eficiente\n",
    "    )\n",
    "    print(\"✔ Datos cargados en MySQL correctamente\")\n",
    "    \n",
    "except ImportError as e:\n",
    "    print(f\"✖ Error: Paquete requerido faltante. Ejecuta: pip install {e.name}\", file=sys.stderr)\n",
    "    print(\"⚠ Continuando sin exportación a base de datos\")\n",
    "\n",
    "except ValueError as e:\n",
    "    print(f\"✖ Error de configuración: {str(e)}\", file=sys.stderr)\n",
    "    print(\"⚠ Verifica tu archivo .env\", file=sys.stderr)\n",
    "\n",
    "except Exception as e:\n",
    "    print(f\"✖ Error en conexión MySQL: {str(e)}\", file=sys.stderr)\n",
    "    print(\"⚠ Continuando sin exportación a base de datos\")"
   ]
  },
  {
   "cell_type": "markdown",
   "metadata": {},
   "source": [
    "## 9. Documentación Final y Próximos Pasos\n",
    "\n",
    "### Resultados Obtenidos:\n",
    "1. Dataset anonimizado y procesado disponible en:\n",
    "   - Excel: para análisis en herramientas de BI (PowerBI, Tableau)\n",
    "   - MySQL: para integración con otros sistemas\n",
    "\n",
    "2. Metadatos generados:\n",
    "   - Estructura de eventos temporal relacionada\n",
    "   - Clasificación estandarizada de causas\n",
    "   - Comentarios enriquecidos\n",
    "\n",
    "### Próximos Pasos Recomendados:\n",
    "\n",
    "1. Desarrollo de Interfaz Ejecutable:\n",
    "   - Usar PyInstaller: `pyinstaller --onefile --windowed procesador_datos.py`\n",
    "   - Incluir archivos de configuración:\n",
    "     - `config_db.py` para conexiones\n",
    "     - `config_params.py` para parámetros de procesamiento\n",
    "\n",
    "2. Análisis de Series Temporales:\n",
    "   ```python\n",
    "   from statsmodels.tsa.seasonal import seasonal_decompose\n",
    "   # Ejemplo básico de análisis\n",
    "   serie_temporal = sintetized_df.groupby(pd.Grouper(key='Inicio', freq='D'))['Minutos'].sum()\n",
    "   decomposition = seasonal_decompose(serie_temporal, model='additive')\n",
    "   decomposition.plot()\n",
    "\n",
    "3. Proyectos SQL Complementarios:\n",
    "    - Vistas materializadas para reportes frecuentes\n",
    "    - Procedimientos almacenados para ETL periódico\n",
    "    - Consultas optimizadas para dashboards"
   ]
  }
 ],
 "metadata": {
  "kernelspec": {
   "display_name": "Python 3",
   "language": "python",
   "name": "python3"
  },
  "language_info": {
   "codemirror_mode": {
    "name": "ipython",
    "version": 3
   },
   "file_extension": ".py",
   "mimetype": "text/x-python",
   "name": "python",
   "nbconvert_exporter": "python",
   "pygments_lexer": "ipython3",
   "version": "3.12.2"
  }
 },
 "nbformat": 4,
 "nbformat_minor": 2
}
